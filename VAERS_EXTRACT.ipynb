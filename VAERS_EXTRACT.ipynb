{
 "cells": [
  {
   "cell_type": "markdown",
   "metadata": {},
   "source": [
    "Import necessary python packages"
   ]
  },
  {
   "cell_type": "code",
   "execution_count": 1,
   "metadata": {},
   "outputs": [],
   "source": [
    "import os\n",
    "import openai\n",
    "import pandas as pd\n",
    "from dotenv import load_dotenv, find_dotenv\n",
    "from typing import List\n",
    "from pydantic import BaseModel, Field\n",
    "from langchain.utils.openai_functions import convert_pydantic_to_openai_function\n",
    "from langchain_community.document_loaders.csv_loader import CSVLoader\n",
    "from langchain_community.document_loaders import DataFrameLoader\n",
    "from langchain_openai import ChatOpenAI\n",
    "from langchain.prompts import ChatPromptTemplate\n",
    "from typing import Optional\n",
    "from langchain.output_parsers.openai_functions import JsonKeyOutputFunctionsParser\n",
    "import functools\n",
    "import operator\n",
    "import warnings\n",
    "warnings.filterwarnings(\"ignore\")\n"
   ]
  },
  {
   "cell_type": "markdown",
   "metadata": {},
   "source": [
    "Set OPENAI API Key (saved in a .env file)"
   ]
  },
  {
   "cell_type": "code",
   "execution_count": 2,
   "metadata": {},
   "outputs": [],
   "source": [
    "\n",
    "_ = load_dotenv(find_dotenv()) # read local .env file\n",
    "openai.api_key = os.environ['OPENAI_API_KEY']"
   ]
  },
  {
   "cell_type": "markdown",
   "metadata": {},
   "source": [
    "Read 2024 VAERS Data downloaded from [Vaccine Adverse Event Reporting System](https://vaers.hhs.gov/data/datasets.html).\n",
    "This dataset contains textual description of symptoms from vaccine. It also contains, structured data like patient age, death etc. However, for this workflow, we will only focus on the text data. Our goal is to extract relevant information from the text"
   ]
  },
  {
   "cell_type": "code",
   "execution_count": 26,
   "metadata": {},
   "outputs": [
    {
     "name": "stdout",
     "output_type": "stream",
     "text": [
      "   VAERS_ID                                       SYMPTOM_TEXT\n",
      "0   2728969  fluzone qiv hd administered to a minor patient...\n",
      "1   2728982  administering vaccines subcutaneously to patie...\n",
      "2   2728984  extreme joint pain; Unable to walk; This non-s...\n",
      "3   2728992  was due to have 2nd when everything shut down ...\n",
      "4   2728993  Injection site hot; Hypersentivity reaction; C...\n"
     ]
    }
   ],
   "source": [
    "df = pd.read_csv('VAERS/2024VAERSDATA.csv',encoding='windows-1252')\n",
    "print(df[['VAERS_ID','SYMPTOM_TEXT']].head())"
   ]
  },
  {
   "cell_type": "markdown",
   "metadata": {},
   "source": [
    "Now we use langchain DataFrameLoader to load the SYMPTOM_TEXT column"
   ]
  },
  {
   "cell_type": "code",
   "execution_count": 4,
   "metadata": {},
   "outputs": [],
   "source": [
    "loader = DataFrameLoader(df,page_content_column=\"SYMPTOM_TEXT\")\n",
    "data = loader.load()"
   ]
  },
  {
   "cell_type": "markdown",
   "metadata": {},
   "source": [
    "Let's print the first five symptom narratives"
   ]
  },
  {
   "cell_type": "code",
   "execution_count": 5,
   "metadata": {},
   "outputs": [
    {
     "name": "stdout",
     "output_type": "stream",
     "text": [
      "fluzone qiv hd administered to a minor patient with no reported\n",
      "adverse event; patient was supposed\n",
      "\n",
      "\n",
      "administering vaccines subcutaneously to patients; Reason for\n",
      "deletion: No GSK suspect\n",
      "\n",
      "\n",
      "extreme joint pain; Unable to walk; This non-serious case was reported\n",
      "by a consumer via interactive\n",
      "\n",
      "\n",
      "was due to have 2nd when everything shut down for pandemic; This non-\n",
      "serious case was reported by a\n",
      "\n",
      "\n",
      "Injection site hot; Hypersentivity reaction; Chills/Shivering; cold\n",
      "and hot; temperature was 100.5;\n",
      "\n",
      "\n"
     ]
    }
   ],
   "source": [
    "import textwrap\n",
    "\n",
    "for page in data[0:5]:\n",
    "    print(textwrap.fill(page.page_content[0:100]))\n",
    "    print('\\n')"
   ]
  },
  {
   "cell_type": "markdown",
   "metadata": {},
   "source": [
    "We define events and Information class using pydantic, later on this classes will be used to generate function schemas that can be used by LLM"
   ]
  },
  {
   "cell_type": "code",
   "execution_count": 6,
   "metadata": {},
   "outputs": [],
   "source": [
    "\n",
    "class Event(BaseModel):\n",
    "    \"\"\"Information about a patient narrative.\"\"\"\n",
    "    VaccineName: str = Field(description = \"Name of Administered Vaccine if the name of vaccine is not available the value should ba NA\")\n",
    "    HospitalAdmission: bool = Field(description = \"This flag is True if patient was admitted into hospital due to Adverse Event otherwise false\")\n",
    "    Age: int = Field(description = \"Age of the patient if available otherwise the value is NA\")"
   ]
  },
  {
   "cell_type": "markdown",
   "metadata": {},
   "source": [
    "Infromation class is a list of all events"
   ]
  },
  {
   "cell_type": "code",
   "execution_count": 7,
   "metadata": {},
   "outputs": [],
   "source": [
    "class Information(BaseModel):\n",
    "    \"\"\"Information to extract.\"\"\"\n",
    "    people: List[Event] = Field(description=\"List of info about patient narratives\")"
   ]
  },
  {
   "cell_type": "markdown",
   "metadata": {},
   "source": [
    "Now we create the chat model instance"
   ]
  },
  {
   "cell_type": "code",
   "execution_count": 8,
   "metadata": {},
   "outputs": [],
   "source": [
    "model = ChatOpenAI(temperature=0)"
   ]
  },
  {
   "cell_type": "markdown",
   "metadata": {},
   "source": [
    "convert_pydantic_to_openai_function will create the information extraction schema from the Information class. "
   ]
  },
  {
   "cell_type": "code",
   "execution_count": 9,
   "metadata": {},
   "outputs": [
    {
     "data": {
      "text/plain": [
       "{'name': 'Information',\n",
       " 'description': 'Information to extract.',\n",
       " 'parameters': {'$defs': {'Event': {'description': 'Information about a patient narrative.',\n",
       "    'properties': {'VaccineName': {'description': 'Name of Administered Vaccine if the name of vaccine is not available the value should ba NA',\n",
       "      'type': 'string'},\n",
       "     'HospitalAdmission': {'description': 'This flag is True if patient was admitted into hospital due to Adverse Event otherwise false',\n",
       "      'type': 'boolean'},\n",
       "     'Age': {'description': 'Age of the patient if available otherwise the value is NA',\n",
       "      'type': 'integer'}},\n",
       "    'required': ['VaccineName', 'HospitalAdmission', 'Age'],\n",
       "    'type': 'object'}},\n",
       "  'properties': {'people': {'description': 'List of info about patient narratives',\n",
       "    'items': {'description': 'Information about a patient narrative.',\n",
       "     'properties': {'VaccineName': {'description': 'Name of Administered Vaccine if the name of vaccine is not available the value should ba NA',\n",
       "       'type': 'string'},\n",
       "      'HospitalAdmission': {'description': 'This flag is True if patient was admitted into hospital due to Adverse Event otherwise false',\n",
       "       'type': 'boolean'},\n",
       "      'Age': {'description': 'Age of the patient if available otherwise the value is NA',\n",
       "       'type': 'integer'}},\n",
       "     'required': ['VaccineName', 'HospitalAdmission', 'Age'],\n",
       "     'type': 'object'},\n",
       "    'type': 'array'}},\n",
       "  'required': ['people'],\n",
       "  'type': 'object'}}"
      ]
     },
     "execution_count": 9,
     "metadata": {},
     "output_type": "execute_result"
    }
   ],
   "source": [
    "convert_pydantic_to_openai_function(Information)"
   ]
  },
  {
   "cell_type": "markdown",
   "metadata": {},
   "source": [
    "Function calling capabilities in OpenAI allows the LLM to parse function arguments from provided text and send it back as response. We leverage this capability to extract the desired information as funciton arguments."
   ]
  },
  {
   "cell_type": "markdown",
   "metadata": {},
   "source": [
    "Let us create an extraction model by binding the extraction function with chat model"
   ]
  },
  {
   "cell_type": "code",
   "execution_count": 10,
   "metadata": {},
   "outputs": [],
   "source": [
    "extraction_functions = [convert_pydantic_to_openai_function(Information)]\n",
    "extraction_model = model.bind(functions=extraction_functions, function_call={\"name\": \"Information\"})"
   ]
  },
  {
   "cell_type": "markdown",
   "metadata": {},
   "source": [
    "We now create the prompt that would be supplied to the chat model"
   ]
  },
  {
   "cell_type": "code",
   "execution_count": 11,
   "metadata": {},
   "outputs": [
    {
     "name": "stdout",
     "output_type": "stream",
     "text": [
      "input_variables=['input'] messages=[SystemMessagePromptTemplate(prompt=PromptTemplate(input_variables=[], template='Extract the relevant information, if not explicitly provided do not guess rather provide NA value for non boolean fields. Extract partial info')), HumanMessagePromptTemplate(prompt=PromptTemplate(input_variables=['input'], template='{input}'))]\n"
     ]
    }
   ],
   "source": [
    "prompt = ChatPromptTemplate.from_messages([\n",
    "    (\"system\", \"Extract the relevant information, if not explicitly provided do not guess rather provide NA value for non boolean fields. Extract partial info\"),\n",
    "    (\"human\", \"{input}\")\n",
    "])\n",
    "print(prompt)"
   ]
  },
  {
   "cell_type": "markdown",
   "metadata": {},
   "source": [
    "Now we create the final chain using Langchain Expression Language"
   ]
  },
  {
   "cell_type": "code",
   "execution_count": 12,
   "metadata": {},
   "outputs": [],
   "source": [
    "extraction_chain = prompt | extraction_model | JsonKeyOutputFunctionsParser(key_name=\"people\")"
   ]
  },
  {
   "cell_type": "markdown",
   "metadata": {},
   "source": [
    "We do a batch submit for first 20 narratives."
   ]
  },
  {
   "cell_type": "code",
   "execution_count": 13,
   "metadata": {},
   "outputs": [],
   "source": [
    "input_batch = []\n",
    "for page in data[0:20]:\n",
    "    input_batch.append({\"input\":page.page_content})"
   ]
  },
  {
   "cell_type": "code",
   "execution_count": 14,
   "metadata": {},
   "outputs": [],
   "source": [
    "vaers=extraction_chain.batch(input_batch)"
   ]
  },
  {
   "cell_type": "code",
   "execution_count": 15,
   "metadata": {},
   "outputs": [],
   "source": [
    "\n",
    "#this is reportedly the most efficient way to get one list out of list of lists by concat\n",
    "vaers_list=functools.reduce(operator.iconcat, vaers, [])"
   ]
  },
  {
   "cell_type": "markdown",
   "metadata": {},
   "source": [
    "## Extracted Data\n",
    "\n",
    "We have extracted Hospital Admission (a potential Serious Adverse Event flag), Vaccine Name, and Patient Age (when available in the Symptom Text), from the text data."
   ]
  },
  {
   "cell_type": "code",
   "execution_count": 16,
   "metadata": {},
   "outputs": [
    {
     "name": "stdout",
     "output_type": "stream",
     "text": [
      "                                       VaccineName  HospitalAdmission   Age\n",
      "0                                   Fluzone QIV HD              False    14\n",
      "1                                               NA              False    45\n",
      "2                     RSVPreF3 adjuvanted (Arexvy)              False    NA\n",
      "3                         Herpes zoster (Shingrix)              False    54\n",
      "4                     RSVPreF3 adjuvanted (Arexvy)              False    25\n",
      "5                     RSVPreF3 adjuvanted (Arexvy)              False  None\n",
      "6                                Influenza vaccine              False  None\n",
      "7   Tozinameran (Pfizer BioNTech COVID-19 vaccine)              False  None\n",
      "8                                         Infanrix              False    11\n",
      "9           FluLaval Quadrivalent 2023-2024 season              False    75\n",
      "10                                        Boostrix              False    NA\n",
      "11                                          Arexvy              False    70\n",
      "12                        Herpes zoster (Shingrix)              False    NA\n",
      "13                                         Bexsero              False    16\n",
      "14                                          Adacel              False    17\n",
      "15                   HIB (PRP/T) VACCINE [ACT-HIB]              False    NA\n",
      "16                                  Fluzone QIV NP              False  None\n",
      "17                                              NA               True  None\n",
      "18                                              NA              False    33\n",
      "19                                              NA               True     0\n",
      "20                                              NA              False    NA\n",
      "21                                              NA              False    NA\n"
     ]
    }
   ],
   "source": [
    "vaers_df = pd.DataFrame.from_dict(vaers_list) \n",
    "print(vaers_df)"
   ]
  },
  {
   "cell_type": "markdown",
   "metadata": {},
   "source": [
    "## Merging extraction with retrieval \n",
    "\n",
    "The approach used above is useful when we want to extract information from all documents. However, this could be time consuming and expensive if document colllection is large. In addition, in most real world use cases often we are interested in understanding only specific scenarios and extract data from those narratives.\n",
    "\n",
    "This is where RAG approach can help us narrowing down the number of documents we supply to the LLM.\n",
    "\n",
    "To implement RAG we will use OpenAI Embedding capabilities with a local chromadb"
   ]
  },
  {
   "cell_type": "markdown",
   "metadata": {},
   "source": [
    "## Parent Document Retriever Implementation"
   ]
  },
  {
   "cell_type": "code",
   "execution_count": 93,
   "metadata": {},
   "outputs": [
    {
     "data": {
      "text/plain": [
       "9551"
      ]
     },
     "execution_count": 93,
     "metadata": {},
     "output_type": "execute_result"
    }
   ],
   "source": [
    "## use this code to delete an existing colleciton!\n",
    "#collection = persistent_client.get_or_create_collection(name=\"VAERS_PC\")\n",
    "#persistent_client.delete_collection(name=\"VAERS_PC\")"
   ]
  },
  {
   "cell_type": "code",
   "execution_count": 94,
   "metadata": {},
   "outputs": [],
   "source": [
    "import chromadb\n",
    "from langchain_openai import OpenAIEmbeddings\n",
    "from chromadb.utils.embedding_functions import OpenAIEmbeddingFunction\n",
    "from langchain_text_splitters import CharacterTextSplitter\n",
    "from langchain_text_splitters import RecursiveCharacterTextSplitter\n",
    "from langchain.storage._lc_store import create_kv_docstore\n",
    "from langchain.storage import LocalFileStore\n",
    "from langchain.retrievers import ParentDocumentRetriever\n",
    "embeddings =OpenAIEmbeddingFunction(model_name=\"text-embedding-ada-002\")\n",
    "persistent_client = chromadb.PersistentClient(path=\"Chroma\")\n",
    "collection = persistent_client.get_or_create_collection(name=\"VAERS_PC\",embedding_function = embeddings)\n",
    "from langchain_community.vectorstores import Chroma\n",
    "langchain_chroma = Chroma(\n",
    "    client=persistent_client,\n",
    "    collection_name=\"VAERS_PC\",\n",
    "    embedding_function=OpenAIEmbeddings(model=\"text-embedding-ada-002\"),\n",
    ")\n",
    "# split it into chunks\n",
    "parent_splitter = RecursiveCharacterTextSplitter(chunk_size=10000)\n",
    "child_splitter = RecursiveCharacterTextSplitter(chunk_size=400)\n",
    "fs = LocalFileStore(\"Chroma/VAERS_STORE\")\n",
    "store = create_kv_docstore(fs)\n",
    "retriever= ParentDocumentRetriever(\n",
    "    vectorstore=langchain_chroma,\n",
    "    docstore=store,\n",
    "    child_splitter=child_splitter,\n",
    "    parent_splitter=parent_splitter,\n",
    "    \n",
    ")\n",
    "\n",
    "def batch(iterable, n=1):\n",
    "    l = len(iterable)\n",
    "    for ndx in range(0, l, n):\n",
    "        yield iterable[ndx:min(ndx + n, l)]\n",
    "\n",
    "for data_batch in batch(data,50):\n",
    "    retriever.add_documents(data_batch, ids=None)\n"
   ]
  },
  {
   "cell_type": "markdown",
   "metadata": {},
   "source": [
    "### Set maximum number of parent documents to return from search"
   ]
  },
  {
   "cell_type": "code",
   "execution_count": 95,
   "metadata": {},
   "outputs": [],
   "source": [
    "retriever.search_kwargs={\"k\":10}"
   ]
  },
  {
   "cell_type": "code",
   "execution_count": 98,
   "metadata": {},
   "outputs": [
    {
     "name": "stdout",
     "output_type": "stream",
     "text": [
      "Treatment of COVID-19; Treatment of COVID-19; This is a spontaneous report received from a Consumer or other non HCP.  A 40-year-old male patient received BNT162b2 omi xbb.1.5 (COMIRNATY (2023-2024 FORMULA)), as dose 1, single (Batch/Lot number: unknown) at the age of 40 years for covid-19 immunisation. The patient's relevant medical history was not reported. There were no concomitant medications. Vaccination history included: Covid-19 vaccine (Dose 1; Manufacturer: Unknown), for COVID-19 immunisation; Covid-19 vaccine (Dose 2; Manufacturer: Unknown), for COVID-19 immunisation; Covid-19 vaccine (Dose 3 (booster); Manufacturer: Unknown), for COVID-19 immunisation; Covid-19 vaccine (Dose 4 (booster); Manufacturer: Unknown), for COVID-19 immunisation; Covid-19 vaccine (Dose 5 (booster); Manufacturer: Unknown), for COVID-19 immunisation; Covid-19 vaccine (Dose 6 (booster); Manufacturer: Unknown), for COVID-19 immunisation. The following information was reported: VACCINATION FAILURE (medically significant), COVID-19 (medically significant) all with onset Jan2024, outcome \"unknown\" and all described as \"Treatment of COVID-19\". Therapeutic measures were taken as a result of vaccination failure, covid-19 which included Paxlovid from 22Jan2024 until 26Jan2024.  No follow-up attempts are possible. Batch/lot number is not provided, and it cannot be obtained.\n",
      "2743526\n"
     ]
    }
   ],
   "source": [
    "## get parent document\n",
    "print(retriever.get_relevant_documents('Booster')[0].page_content)\n",
    "print(retriever.get_relevant_documents('Booster')[0].metadata['VAERS_ID'])"
   ]
  },
  {
   "cell_type": "code",
   "execution_count": 103,
   "metadata": {},
   "outputs": [
    {
     "name": "stdout",
     "output_type": "stream",
     "text": [
      "There are 44181  chunks in the child document collection\n"
     ]
    }
   ],
   "source": [
    "print(\"There are\", langchain_chroma._collection.count(), \" chunks in the child document collection\")"
   ]
  },
  {
   "cell_type": "markdown",
   "metadata": {},
   "source": [
    "### We can also search the child document (smaller chunks)"
   ]
  },
  {
   "cell_type": "code",
   "execution_count": null,
   "metadata": {},
   "outputs": [],
   "source": [
    "langchain_chroma.similarity_search('Booster',k=2)"
   ]
  },
  {
   "cell_type": "code",
   "execution_count": 105,
   "metadata": {},
   "outputs": [
    {
     "name": "stdout",
     "output_type": "stream",
     "text": [
      "(booster); Manufacturer: Unknown), for COVID-19 immunisation; Covid-19 vaccine (Dose 4 (booster); Manufacturer: Unknown), for COVID-19 immunisation; Covid-19 vaccine (Dose 5 (booster); Manufacturer: Unknown), for COVID-19 immunisation; Covid-19 vaccine (Dose 6 (booster); Manufacturer: Unknown), for COVID-19 immunisation. The following information was reported: VACCINATION FAILURE (medically\n",
      "2743526\n"
     ]
    }
   ],
   "source": [
    "#get chunk\n",
    "print(langchain_chroma.similarity_search('Booster')[0].page_content)\n",
    "print(langchain_chroma.similarity_search('Booster')[0].metadata['VAERS_ID'])"
   ]
  },
  {
   "cell_type": "markdown",
   "metadata": {},
   "source": [
    "We can always query the ChromaDB collection"
   ]
  },
  {
   "cell_type": "code",
   "execution_count": 126,
   "metadata": {},
   "outputs": [
    {
     "name": "stdout",
     "output_type": "stream",
     "text": [
      "name='VAERS_PC' id=UUID('71333657-c9ca-4844-83f8-04b6112d69f3') metadata=None tenant='default_tenant' database='default_database'\n",
      "Covid Booster shot\n"
     ]
    }
   ],
   "source": [
    "print(collection)\n",
    "query=\"Covid Booster shot\"\n",
    "\n",
    "query_vector=embeddings(query)\n",
    "print(query)"
   ]
  },
  {
   "cell_type": "code",
   "execution_count": null,
   "metadata": {},
   "outputs": [],
   "source": [
    "res = collection.query(\n",
    "            query_embeddings=query_vector,\n",
    "            n_results=10,\n",
    "            include=['distances','embeddings', 'documents', 'metadatas'],\n",
    "            \n",
    ")"
   ]
  },
  {
   "cell_type": "code",
   "execution_count": 193,
   "metadata": {},
   "outputs": [],
   "source": [
    "retriever.search_kwargs={\"k\":1000}\n",
    "context_data = retriever.get_relevant_documents('Booster Shot')\n",
    "\n",
    "vaers_ids=[]\n",
    "for dc in context_data:\n",
    "    vaers_ids.append(dc.metadata['VAERS_ID'])"
   ]
  },
  {
   "cell_type": "code",
   "execution_count": 207,
   "metadata": {},
   "outputs": [
    {
     "data": {
      "text/html": [
       "<div>\n",
       "<style scoped>\n",
       "    .dataframe tbody tr th:only-of-type {\n",
       "        vertical-align: middle;\n",
       "    }\n",
       "\n",
       "    .dataframe tbody tr th {\n",
       "        vertical-align: top;\n",
       "    }\n",
       "\n",
       "    .dataframe thead th {\n",
       "        text-align: right;\n",
       "    }\n",
       "</style>\n",
       "<table border=\"1\" class=\"dataframe\">\n",
       "  <thead>\n",
       "    <tr style=\"text-align: right;\">\n",
       "      <th></th>\n",
       "      <th>VAERS_ID</th>\n",
       "      <th>RECVDATE</th>\n",
       "      <th>STATE</th>\n",
       "      <th>AGE_YRS</th>\n",
       "      <th>CAGE_YR</th>\n",
       "      <th>CAGE_MO</th>\n",
       "      <th>SEX</th>\n",
       "      <th>RPT_DATE</th>\n",
       "      <th>SYMPTOM_TEXT</th>\n",
       "      <th>DIED</th>\n",
       "      <th>...</th>\n",
       "      <th>CUR_ILL</th>\n",
       "      <th>HISTORY</th>\n",
       "      <th>PRIOR_VAX</th>\n",
       "      <th>SPLTTYPE</th>\n",
       "      <th>FORM_VERS</th>\n",
       "      <th>TODAYS_DATE</th>\n",
       "      <th>BIRTH_DEFECT</th>\n",
       "      <th>OFC_VISIT</th>\n",
       "      <th>ER_ED_VISIT</th>\n",
       "      <th>ALLERGIES</th>\n",
       "    </tr>\n",
       "  </thead>\n",
       "  <tbody>\n",
       "    <tr>\n",
       "      <th>169</th>\n",
       "      <td>2729253</td>\n",
       "      <td>01/02/2024</td>\n",
       "      <td>NaN</td>\n",
       "      <td>37.0</td>\n",
       "      <td>37.0</td>\n",
       "      <td>NaN</td>\n",
       "      <td>F</td>\n",
       "      <td>NaN</td>\n",
       "      <td>Updated COVID-19 vaccine (2023-2024) indicated...</td>\n",
       "      <td>NaN</td>\n",
       "      <td>...</td>\n",
       "      <td>NaN</td>\n",
       "      <td>NaN</td>\n",
       "      <td>NaN</td>\n",
       "      <td>NaN</td>\n",
       "      <td>2</td>\n",
       "      <td>01/02/2024</td>\n",
       "      <td>NaN</td>\n",
       "      <td>NaN</td>\n",
       "      <td>NaN</td>\n",
       "      <td>NaN</td>\n",
       "    </tr>\n",
       "    <tr>\n",
       "      <th>217</th>\n",
       "      <td>2729351</td>\n",
       "      <td>01/02/2024</td>\n",
       "      <td>FL</td>\n",
       "      <td>68.0</td>\n",
       "      <td>NaN</td>\n",
       "      <td>NaN</td>\n",
       "      <td>F</td>\n",
       "      <td>NaN</td>\n",
       "      <td>COVID 19 Treatment; COVID 19 Treatment; This i...</td>\n",
       "      <td>NaN</td>\n",
       "      <td>...</td>\n",
       "      <td>NaN</td>\n",
       "      <td>Medical History/Concurrent Conditions: Blood p...</td>\n",
       "      <td>NaN</td>\n",
       "      <td>USPFIZER INC202300455986</td>\n",
       "      <td>2</td>\n",
       "      <td>01/02/2024</td>\n",
       "      <td>NaN</td>\n",
       "      <td>NaN</td>\n",
       "      <td>NaN</td>\n",
       "      <td>NaN</td>\n",
       "    </tr>\n",
       "    <tr>\n",
       "      <th>221</th>\n",
       "      <td>2729355</td>\n",
       "      <td>01/02/2024</td>\n",
       "      <td>NaN</td>\n",
       "      <td>40.0</td>\n",
       "      <td>NaN</td>\n",
       "      <td>NaN</td>\n",
       "      <td>F</td>\n",
       "      <td>NaN</td>\n",
       "      <td>COVID 19; COVID 19; Dose 2/Dose 1:Pfizer;Dose ...</td>\n",
       "      <td>NaN</td>\n",
       "      <td>...</td>\n",
       "      <td>NaN</td>\n",
       "      <td>Medical History/Concurrent Conditions: Hypothy...</td>\n",
       "      <td>NaN</td>\n",
       "      <td>USPFIZER INC202300456294</td>\n",
       "      <td>2</td>\n",
       "      <td>12/29/2023</td>\n",
       "      <td>NaN</td>\n",
       "      <td>NaN</td>\n",
       "      <td>NaN</td>\n",
       "      <td>NaN</td>\n",
       "    </tr>\n",
       "    <tr>\n",
       "      <th>222</th>\n",
       "      <td>2729356</td>\n",
       "      <td>01/02/2024</td>\n",
       "      <td>TX</td>\n",
       "      <td>28.0</td>\n",
       "      <td>NaN</td>\n",
       "      <td>NaN</td>\n",
       "      <td>M</td>\n",
       "      <td>NaN</td>\n",
       "      <td>COVID 19; COVID 19; This is a spontaneous repo...</td>\n",
       "      <td>NaN</td>\n",
       "      <td>...</td>\n",
       "      <td>NaN</td>\n",
       "      <td>NaN</td>\n",
       "      <td>NaN</td>\n",
       "      <td>USPFIZER INC202300456559</td>\n",
       "      <td>2</td>\n",
       "      <td>12/29/2023</td>\n",
       "      <td>NaN</td>\n",
       "      <td>NaN</td>\n",
       "      <td>NaN</td>\n",
       "      <td>NaN</td>\n",
       "    </tr>\n",
       "    <tr>\n",
       "      <th>225</th>\n",
       "      <td>2729359</td>\n",
       "      <td>01/02/2024</td>\n",
       "      <td>NH</td>\n",
       "      <td>72.0</td>\n",
       "      <td>NaN</td>\n",
       "      <td>NaN</td>\n",
       "      <td>M</td>\n",
       "      <td>NaN</td>\n",
       "      <td>I have had eight of the Pfizer COVID shots; I ...</td>\n",
       "      <td>NaN</td>\n",
       "      <td>...</td>\n",
       "      <td>NaN</td>\n",
       "      <td>Medical History/Concurrent Conditions: Blood p...</td>\n",
       "      <td>NaN</td>\n",
       "      <td>USPFIZER INC202300456936</td>\n",
       "      <td>2</td>\n",
       "      <td>01/01/2024</td>\n",
       "      <td>NaN</td>\n",
       "      <td>NaN</td>\n",
       "      <td>NaN</td>\n",
       "      <td>NaN</td>\n",
       "    </tr>\n",
       "  </tbody>\n",
       "</table>\n",
       "<p>5 rows × 35 columns</p>\n",
       "</div>"
      ],
      "text/plain": [
       "     VAERS_ID    RECVDATE STATE  AGE_YRS  CAGE_YR  CAGE_MO SEX RPT_DATE  \\\n",
       "169   2729253  01/02/2024   NaN     37.0     37.0      NaN   F      NaN   \n",
       "217   2729351  01/02/2024    FL     68.0      NaN      NaN   F      NaN   \n",
       "221   2729355  01/02/2024   NaN     40.0      NaN      NaN   F      NaN   \n",
       "222   2729356  01/02/2024    TX     28.0      NaN      NaN   M      NaN   \n",
       "225   2729359  01/02/2024    NH     72.0      NaN      NaN   M      NaN   \n",
       "\n",
       "                                          SYMPTOM_TEXT DIED  ... CUR_ILL  \\\n",
       "169  Updated COVID-19 vaccine (2023-2024) indicated...  NaN  ...     NaN   \n",
       "217  COVID 19 Treatment; COVID 19 Treatment; This i...  NaN  ...     NaN   \n",
       "221  COVID 19; COVID 19; Dose 2/Dose 1:Pfizer;Dose ...  NaN  ...     NaN   \n",
       "222  COVID 19; COVID 19; This is a spontaneous repo...  NaN  ...     NaN   \n",
       "225  I have had eight of the Pfizer COVID shots; I ...  NaN  ...     NaN   \n",
       "\n",
       "                                               HISTORY PRIOR_VAX  \\\n",
       "169                                                NaN       NaN   \n",
       "217  Medical History/Concurrent Conditions: Blood p...       NaN   \n",
       "221  Medical History/Concurrent Conditions: Hypothy...       NaN   \n",
       "222                                                NaN       NaN   \n",
       "225  Medical History/Concurrent Conditions: Blood p...       NaN   \n",
       "\n",
       "                     SPLTTYPE  FORM_VERS TODAYS_DATE BIRTH_DEFECT OFC_VISIT  \\\n",
       "169                       NaN          2  01/02/2024          NaN       NaN   \n",
       "217  USPFIZER INC202300455986          2  01/02/2024          NaN       NaN   \n",
       "221  USPFIZER INC202300456294          2  12/29/2023          NaN       NaN   \n",
       "222  USPFIZER INC202300456559          2  12/29/2023          NaN       NaN   \n",
       "225  USPFIZER INC202300456936          2  01/01/2024          NaN       NaN   \n",
       "\n",
       "    ER_ED_VISIT ALLERGIES  \n",
       "169         NaN       NaN  \n",
       "217         NaN       NaN  \n",
       "221         NaN       NaN  \n",
       "222         NaN       NaN  \n",
       "225         NaN       NaN  \n",
       "\n",
       "[5 rows x 35 columns]"
      ]
     },
     "execution_count": 207,
     "metadata": {},
     "output_type": "execute_result"
    }
   ],
   "source": [
    "vaers_subset = df[df['VAERS_ID'].isin( vaers_ids)]\n",
    "vaers_subset.head()"
   ]
  },
  {
   "cell_type": "code",
   "execution_count": 208,
   "metadata": {},
   "outputs": [
    {
     "data": {
      "text/plain": [
       "(642, 35)"
      ]
     },
     "execution_count": 208,
     "metadata": {},
     "output_type": "execute_result"
    }
   ],
   "source": [
    "vaers_subset.shape"
   ]
  },
  {
   "cell_type": "code",
   "execution_count": 221,
   "metadata": {},
   "outputs": [],
   "source": [
    "input_batch = []\n",
    "for row in vaers_subset['SYMPTOM_TEXT']:\n",
    "    input_batch.append({\"input\":row})\n",
    "\n",
    "extraction_chain = prompt | extraction_model | JsonKeyOutputFunctionsParser(key_name=\"people\")\n",
    "vaers_sub=extraction_chain.batch(input_batch[0:20])"
   ]
  },
  {
   "cell_type": "code",
   "execution_count": 225,
   "metadata": {},
   "outputs": [
    {
     "name": "stdout",
     "output_type": "stream",
     "text": [
      "                                          VaccineName  HospitalAdmission   Age\n",
      "0                Updated COVID-19 vaccine (2023-2024)              False    37\n",
      "1   BNT162b2 omi xbb.1.5 (COMIRNATY (2023-2024 FOR...              False    68\n",
      "2                                            BNT162b2              False    42\n",
      "3                                          elasomeran              False    40\n",
      "4                                            BNT162b2              False    29\n",
      "5   BNT162b2 omi xbb.1.5 (COMIRNATY (2023-2024 FOR...              False    72\n",
      "6                                            BNT162b2              False    64\n",
      "7   BNT162b2 omi xbb.1.5 (COMIRNATY (2023-2024 FOR...              False    62\n",
      "8                                                  NA              False    NA\n",
      "9   BNT162b2 omi xbb.1.5 (COMIRNATY (2023-2024 FOR...              False    74\n",
      "10                   BNT162b2 omi xbb.1.5 (COMIRNATY)              False    49\n",
      "11  BNT162b2, BNT162b2 omi ba.4-5 (BNT162B2, BNT16...              False    54\n",
      "12                                           BNT162b2              False    57\n",
      "13                         COVID-19 vaccine nrvv ad26              False    57\n",
      "14                                         elasomeran              False    57\n",
      "15                                           BNT162b2              False    50\n",
      "16                                           PAXLOVID              False  None\n",
      "17                                           BNT162b2              False  None\n",
      "18                                   COVID-19 VACCINE              False  None\n",
      "19                                   Covid-19 booster              False  None\n",
      "20                                      COVID Vaccine              False    45\n",
      "21                                    Expired vaccine              False    NA\n",
      "22                              Expired Covid vaccine              False    NA\n",
      "23                              Expired COVID vaccine              False    NA\n",
      "24                              Expired COVID vaccine              False    45\n"
     ]
    }
   ],
   "source": [
    "vaers_sub_list=functools.reduce(operator.iconcat, vaers_sub, [])\n",
    "vaers_sub_df = pd.DataFrame.from_dict(vaers_sub_list) \n",
    "print(vaers_sub_df)"
   ]
  },
  {
   "cell_type": "markdown",
   "metadata": {},
   "source": [
    "Same concept can be applied through a chain. However, we may run into isssues with maximum token limits."
   ]
  },
  {
   "cell_type": "code",
   "execution_count": 226,
   "metadata": {},
   "outputs": [],
   "source": [
    "from langchain_core.runnables import (RunnableParallel,RunnablePassthrough)\n",
    "chunk_retriever = langchain_chroma.as_retriever(search_kwargs={\"k\" : 10})\n",
    "retrival=RunnableParallel({\"input\": chunk_retriever, \"query\":RunnablePassthrough()})"
   ]
  },
  {
   "cell_type": "code",
   "execution_count": 228,
   "metadata": {},
   "outputs": [],
   "source": [
    "prompt = ChatPromptTemplate.from_messages([\n",
    "    (\"system\", \"Extract the relevant information, if not explicitly provided do not guess rather provide NA value for non boolean fields. Extract partial info\"),\n",
    "    (\"human\", \"{input}\")\n",
    "])\n",
    "## retrival with chunk retrievar\n",
    "retrival_extraction_chain = retrival | prompt | extraction_model | JsonKeyOutputFunctionsParser(key_name=\"people\")"
   ]
  },
  {
   "cell_type": "code",
   "execution_count": 229,
   "metadata": {},
   "outputs": [],
   "source": [
    "retrieved_data = retrival_extraction_chain.invoke('Booster Shot')"
   ]
  },
  {
   "cell_type": "code",
   "execution_count": 230,
   "metadata": {},
   "outputs": [
    {
     "name": "stdout",
     "output_type": "stream",
     "text": [
      "[{'VaccineName': 'Covid-19 vaccine', 'HospitalAdmission': False, 'Age': 74}, {'VaccineName': 'Covid-19 vaccine', 'HospitalAdmission': False, 'Age': None}, {'VaccineName': 'Bnt162b2', 'HospitalAdmission': False, 'Age': None}, {'VaccineName': 'Covid-19 vaccine', 'HospitalAdmission': False, 'Age': None}, {'VaccineName': 'Covid-19 vaccine', 'HospitalAdmission': False, 'Age': 65}, {'VaccineName': 'Covid-19 vaccine', 'HospitalAdmission': False, 'Age': 65}, {'VaccineName': 'Covid-19 vaccine', 'HospitalAdmission': False, 'Age': None}, {'VaccineName': 'Covid-19 vaccine', 'HospitalAdmission': False, 'Age': 65}]\n"
     ]
    }
   ],
   "source": [
    "print(retrieved_data)"
   ]
  },
  {
   "cell_type": "code",
   "execution_count": 231,
   "metadata": {},
   "outputs": [
    {
     "name": "stdout",
     "output_type": "stream",
     "text": [
      "        VaccineName  HospitalAdmission   Age\n",
      "0  Covid-19 vaccine              False  74.0\n",
      "1  Covid-19 vaccine              False   NaN\n",
      "2          Bnt162b2              False   NaN\n",
      "3  Covid-19 vaccine              False   NaN\n",
      "4  Covid-19 vaccine              False  65.0\n",
      "5  Covid-19 vaccine              False  65.0\n",
      "6  Covid-19 vaccine              False   NaN\n",
      "7  Covid-19 vaccine              False  65.0\n"
     ]
    }
   ],
   "source": [
    "retrieved_df = pd.DataFrame.from_dict(retrieved_data) \n",
    "print(retrieved_df)"
   ]
  },
  {
   "cell_type": "markdown",
   "metadata": {},
   "source": [
    "Note:  We  limited the maximum number of returned documents (10) to avoid maximum token limit exceed error. "
   ]
  }
 ],
 "metadata": {
  "kernelspec": {
   "display_name": "Python 3",
   "language": "python",
   "name": "python3"
  },
  "language_info": {
   "codemirror_mode": {
    "name": "ipython",
    "version": 3
   },
   "file_extension": ".py",
   "mimetype": "text/x-python",
   "name": "python",
   "nbconvert_exporter": "python",
   "pygments_lexer": "ipython3",
   "version": "3.12.2"
  }
 },
 "nbformat": 4,
 "nbformat_minor": 2
}
