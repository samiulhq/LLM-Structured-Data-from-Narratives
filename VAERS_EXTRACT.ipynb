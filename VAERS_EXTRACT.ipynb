{
 "cells": [
  {
   "cell_type": "code",
   "execution_count": 1,
   "metadata": {},
   "outputs": [],
   "source": [
    "import os\n",
    "import openai\n",
    "import pandas as pd\n",
    "from dotenv import load_dotenv, find_dotenv\n",
    "_ = load_dotenv(find_dotenv()) # read local .env file\n",
    "openai.api_key = os.environ['OPENAI_API_KEY']"
   ]
  },
  {
   "cell_type": "code",
   "execution_count": 2,
   "metadata": {},
   "outputs": [],
   "source": [
    "from typing import List\n",
    "from pydantic import BaseModel, Field\n",
    "from langchain.utils.openai_functions import convert_pydantic_to_openai_function\n",
    "from langchain_community.document_loaders.csv_loader import CSVLoader\n",
    "from langchain_community.document_loaders import DataFrameLoader\n",
    "from langchain_openai import ChatOpenAI\n",
    "from langchain.prompts import ChatPromptTemplate\n"
   ]
  },
  {
   "cell_type": "code",
   "execution_count": 4,
   "metadata": {},
   "outputs": [
    {
     "data": {
      "text/html": [
       "<div>\n",
       "<style scoped>\n",
       "    .dataframe tbody tr th:only-of-type {\n",
       "        vertical-align: middle;\n",
       "    }\n",
       "\n",
       "    .dataframe tbody tr th {\n",
       "        vertical-align: top;\n",
       "    }\n",
       "\n",
       "    .dataframe thead th {\n",
       "        text-align: right;\n",
       "    }\n",
       "</style>\n",
       "<table border=\"1\" class=\"dataframe\">\n",
       "  <thead>\n",
       "    <tr style=\"text-align: right;\">\n",
       "      <th></th>\n",
       "      <th>VAERS_ID</th>\n",
       "      <th>RECVDATE</th>\n",
       "      <th>STATE</th>\n",
       "      <th>AGE_YRS</th>\n",
       "      <th>CAGE_YR</th>\n",
       "      <th>CAGE_MO</th>\n",
       "      <th>SEX</th>\n",
       "      <th>RPT_DATE</th>\n",
       "      <th>SYMPTOM_TEXT</th>\n",
       "      <th>DIED</th>\n",
       "      <th>...</th>\n",
       "      <th>CUR_ILL</th>\n",
       "      <th>HISTORY</th>\n",
       "      <th>PRIOR_VAX</th>\n",
       "      <th>SPLTTYPE</th>\n",
       "      <th>FORM_VERS</th>\n",
       "      <th>TODAYS_DATE</th>\n",
       "      <th>BIRTH_DEFECT</th>\n",
       "      <th>OFC_VISIT</th>\n",
       "      <th>ER_ED_VISIT</th>\n",
       "      <th>ALLERGIES</th>\n",
       "    </tr>\n",
       "  </thead>\n",
       "  <tbody>\n",
       "    <tr>\n",
       "      <th>0</th>\n",
       "      <td>2728969</td>\n",
       "      <td>01/01/2024</td>\n",
       "      <td>AK</td>\n",
       "      <td>14.0</td>\n",
       "      <td>NaN</td>\n",
       "      <td>NaN</td>\n",
       "      <td>M</td>\n",
       "      <td>NaN</td>\n",
       "      <td>fluzone qiv hd administered to a minor patient...</td>\n",
       "      <td>NaN</td>\n",
       "      <td>...</td>\n",
       "      <td>NaN</td>\n",
       "      <td>NaN</td>\n",
       "      <td>NaN</td>\n",
       "      <td>USSA2023SA396019</td>\n",
       "      <td>2</td>\n",
       "      <td>12/30/2023</td>\n",
       "      <td>NaN</td>\n",
       "      <td>NaN</td>\n",
       "      <td>NaN</td>\n",
       "      <td>NaN</td>\n",
       "    </tr>\n",
       "    <tr>\n",
       "      <th>1</th>\n",
       "      <td>2728982</td>\n",
       "      <td>01/01/2024</td>\n",
       "      <td>NJ</td>\n",
       "      <td>NaN</td>\n",
       "      <td>NaN</td>\n",
       "      <td>NaN</td>\n",
       "      <td>U</td>\n",
       "      <td>NaN</td>\n",
       "      <td>administering vaccines subcutaneously to patie...</td>\n",
       "      <td>NaN</td>\n",
       "      <td>...</td>\n",
       "      <td>NaN</td>\n",
       "      <td>NaN</td>\n",
       "      <td>NaN</td>\n",
       "      <td>USGSKUS2023AMR179885</td>\n",
       "      <td>2</td>\n",
       "      <td>01/01/2024</td>\n",
       "      <td>NaN</td>\n",
       "      <td>NaN</td>\n",
       "      <td>NaN</td>\n",
       "      <td>NaN</td>\n",
       "    </tr>\n",
       "    <tr>\n",
       "      <th>2</th>\n",
       "      <td>2728984</td>\n",
       "      <td>01/01/2024</td>\n",
       "      <td>NaN</td>\n",
       "      <td>NaN</td>\n",
       "      <td>NaN</td>\n",
       "      <td>NaN</td>\n",
       "      <td>U</td>\n",
       "      <td>NaN</td>\n",
       "      <td>extreme joint pain; Unable to walk; This non-s...</td>\n",
       "      <td>NaN</td>\n",
       "      <td>...</td>\n",
       "      <td>NaN</td>\n",
       "      <td>NaN</td>\n",
       "      <td>NaN</td>\n",
       "      <td>USGSKUS2023AMR180978</td>\n",
       "      <td>2</td>\n",
       "      <td>01/01/2024</td>\n",
       "      <td>NaN</td>\n",
       "      <td>NaN</td>\n",
       "      <td>NaN</td>\n",
       "      <td>NaN</td>\n",
       "    </tr>\n",
       "    <tr>\n",
       "      <th>3</th>\n",
       "      <td>2728992</td>\n",
       "      <td>01/01/2024</td>\n",
       "      <td>MO</td>\n",
       "      <td>NaN</td>\n",
       "      <td>NaN</td>\n",
       "      <td>NaN</td>\n",
       "      <td>F</td>\n",
       "      <td>NaN</td>\n",
       "      <td>was due to have 2nd when everything shut down ...</td>\n",
       "      <td>NaN</td>\n",
       "      <td>...</td>\n",
       "      <td>NaN</td>\n",
       "      <td>NaN</td>\n",
       "      <td>NaN</td>\n",
       "      <td>USGSKUS2023AMR181463</td>\n",
       "      <td>2</td>\n",
       "      <td>01/01/2024</td>\n",
       "      <td>NaN</td>\n",
       "      <td>NaN</td>\n",
       "      <td>NaN</td>\n",
       "      <td>NaN</td>\n",
       "    </tr>\n",
       "    <tr>\n",
       "      <th>4</th>\n",
       "      <td>2728993</td>\n",
       "      <td>01/01/2024</td>\n",
       "      <td>NaN</td>\n",
       "      <td>NaN</td>\n",
       "      <td>NaN</td>\n",
       "      <td>NaN</td>\n",
       "      <td>U</td>\n",
       "      <td>NaN</td>\n",
       "      <td>Injection site hot; Hypersentivity reaction; C...</td>\n",
       "      <td>NaN</td>\n",
       "      <td>...</td>\n",
       "      <td>Autoimmune disorder (Autoimmune disorder diagn...</td>\n",
       "      <td>NaN</td>\n",
       "      <td>NaN</td>\n",
       "      <td>USGSKUS2023AMR181703</td>\n",
       "      <td>2</td>\n",
       "      <td>01/01/2024</td>\n",
       "      <td>NaN</td>\n",
       "      <td>NaN</td>\n",
       "      <td>NaN</td>\n",
       "      <td>NaN</td>\n",
       "    </tr>\n",
       "  </tbody>\n",
       "</table>\n",
       "<p>5 rows × 35 columns</p>\n",
       "</div>"
      ],
      "text/plain": [
       "   VAERS_ID    RECVDATE STATE  AGE_YRS  CAGE_YR  CAGE_MO SEX RPT_DATE  \\\n",
       "0   2728969  01/01/2024    AK     14.0      NaN      NaN   M      NaN   \n",
       "1   2728982  01/01/2024    NJ      NaN      NaN      NaN   U      NaN   \n",
       "2   2728984  01/01/2024   NaN      NaN      NaN      NaN   U      NaN   \n",
       "3   2728992  01/01/2024    MO      NaN      NaN      NaN   F      NaN   \n",
       "4   2728993  01/01/2024   NaN      NaN      NaN      NaN   U      NaN   \n",
       "\n",
       "                                        SYMPTOM_TEXT DIED  ...  \\\n",
       "0  fluzone qiv hd administered to a minor patient...  NaN  ...   \n",
       "1  administering vaccines subcutaneously to patie...  NaN  ...   \n",
       "2  extreme joint pain; Unable to walk; This non-s...  NaN  ...   \n",
       "3  was due to have 2nd when everything shut down ...  NaN  ...   \n",
       "4  Injection site hot; Hypersentivity reaction; C...  NaN  ...   \n",
       "\n",
       "                                             CUR_ILL HISTORY PRIOR_VAX  \\\n",
       "0                                                NaN     NaN       NaN   \n",
       "1                                                NaN     NaN       NaN   \n",
       "2                                                NaN     NaN       NaN   \n",
       "3                                                NaN     NaN       NaN   \n",
       "4  Autoimmune disorder (Autoimmune disorder diagn...     NaN       NaN   \n",
       "\n",
       "               SPLTTYPE  FORM_VERS TODAYS_DATE BIRTH_DEFECT OFC_VISIT  \\\n",
       "0      USSA2023SA396019          2  12/30/2023          NaN       NaN   \n",
       "1  USGSKUS2023AMR179885          2  01/01/2024          NaN       NaN   \n",
       "2  USGSKUS2023AMR180978          2  01/01/2024          NaN       NaN   \n",
       "3  USGSKUS2023AMR181463          2  01/01/2024          NaN       NaN   \n",
       "4  USGSKUS2023AMR181703          2  01/01/2024          NaN       NaN   \n",
       "\n",
       "  ER_ED_VISIT ALLERGIES  \n",
       "0         NaN       NaN  \n",
       "1         NaN       NaN  \n",
       "2         NaN       NaN  \n",
       "3         NaN       NaN  \n",
       "4         NaN       NaN  \n",
       "\n",
       "[5 rows x 35 columns]"
      ]
     },
     "execution_count": 4,
     "metadata": {},
     "output_type": "execute_result"
    }
   ],
   "source": [
    "df = pd.read_csv('VAERS/2024VAERSDATA.csv',encoding='windows-1252')\n",
    "df.head()"
   ]
  },
  {
   "cell_type": "code",
   "execution_count": 5,
   "metadata": {},
   "outputs": [],
   "source": [
    "loader = DataFrameLoader(df,page_content_column=\"SYMPTOM_TEXT\")\n",
    "\n",
    "data = loader.load()"
   ]
  },
  {
   "cell_type": "code",
   "execution_count": 6,
   "metadata": {},
   "outputs": [
    {
     "data": {
      "text/plain": [
       "\"fluzone qiv hd administered to a minor patient with no reported adverse event; patient was supposed to receive the Flumist Nasal Spray but she grabbed the FLUZONE QIV HD and inadvertently gave it to intranasally with no reported adverse event; patient was supposed to receive the Flumist Nasal Spray but she grabbed the FLUZONE QIV HD and inadvertently gave it to intranasally with no reported adverse event; Initial information received from Regulatory Authority on 18-Dec-2023 regarding an unsolicited valid  non-serious case received from a nurse.  This case involves a 14 years old male patient to whom influenza quadrival A-B high dose HV vaccine [Fluzone High-Dose Quadrivalent] was administered who was supposed to receive the Influenza Vaccine Live Reassort 3v (Flumist) nasal Spary but she grabbed the Fluzone QIV HD and inadvertently gave it to intranasally with no reported adverse event.  The patient's past medical history, medical treatment(s), vaccination(s) and family history were not provided.   On an unknown date, the minor patient received (dose 1) of 0.7 ml of suspect influenza quadrival A-B high dose HV vaccine, (lot 370679: formulation, strength and expiry date; unknown) via nasal route in unknown administration site for Immunization with no reported adverse event (product administered to patient of inappropriate age) (unknown latency).  On an unknown date the was supposed to receive the flumist nasal spray but she grabbed the fluzone qiv hd and inadvertently gave it to intranasally with no reported adverse event (wrong product administered) (incorrect route of product administration) (unknown latency).    This suspected adverse reaction report is submitted and classified as a medication error solely and exclusively to ensure the marketing authorization holder's compliance with the requirements set out in the Directive 2001/83/EC and Module VI of the Good Pharmacovigilance Practices. The classification as a medical error is in no way intended, nor should it be interpreted or construed as an allegation or claim made by the marketing authorization holder that any third party has contributed to or is to be held liable for the occurrence of this medication error.\""
      ]
     },
     "execution_count": 6,
     "metadata": {},
     "output_type": "execute_result"
    }
   ],
   "source": [
    "data[0].page_content"
   ]
  },
  {
   "cell_type": "code",
   "execution_count": 7,
   "metadata": {},
   "outputs": [],
   "source": [
    "from typing import Optional\n",
    "class events(BaseModel):\n",
    "    \"\"\"Information about a patient narrative.\"\"\"\n",
    "    VaccineName: str = Field(description=\"Name of Administered Vaccine if the name of vaccine is not available the value should ba NA\")\n",
    "    HodpitalAdmission: bool = Field(description=\"This flag is True if patient was admitted into hospital due to Adverse Event otherwise false\")\n",
    "    Age: int = Field(description=\"Age of the patien if available otherwise the value is NA\")"
   ]
  },
  {
   "cell_type": "code",
   "execution_count": 8,
   "metadata": {},
   "outputs": [],
   "source": [
    "class Information(BaseModel):\n",
    "    \"\"\"Information to extract.\"\"\"\n",
    "    people: List[events] = Field(description=\"List of info about patient narratives\")"
   ]
  },
  {
   "cell_type": "code",
   "execution_count": 9,
   "metadata": {},
   "outputs": [],
   "source": [
    "model = ChatOpenAI(temperature=0)\n"
   ]
  },
  {
   "cell_type": "code",
   "execution_count": 10,
   "metadata": {},
   "outputs": [
    {
     "name": "stderr",
     "output_type": "stream",
     "text": [
      "/Library/Frameworks/Python.framework/Versions/3.12/lib/python3.12/site-packages/langchain_core/_api/deprecation.py:117: LangChainDeprecationWarning: The function `convert_pydantic_to_openai_function` was deprecated in LangChain 0.1.16 and will be removed in 0.2.0. Use langchain_core.utils.function_calling.convert_to_openai_function() instead.\n",
      "  warn_deprecated(\n"
     ]
    }
   ],
   "source": [
    "convert_pydantic_to_openai_function(Information)\n",
    "extraction_functions = [convert_pydantic_to_openai_function(Information)]\n",
    "extraction_model = model.bind(functions=extraction_functions, function_call={\"name\": \"Information\"})"
   ]
  },
  {
   "cell_type": "code",
   "execution_count": 11,
   "metadata": {},
   "outputs": [
    {
     "name": "stdout",
     "output_type": "stream",
     "text": [
      "input_variables=['input'] messages=[SystemMessagePromptTemplate(prompt=PromptTemplate(input_variables=[], template='Extract the relevant information, if not explicitly provided do not guess rather provide NA value for non boolean fields. Extract partial info')), HumanMessagePromptTemplate(prompt=PromptTemplate(input_variables=['input'], template='{input}'))]\n"
     ]
    }
   ],
   "source": [
    "prompt = ChatPromptTemplate.from_messages([\n",
    "    (\"system\", \"Extract the relevant information, if not explicitly provided do not guess rather provide NA value for non boolean fields. Extract partial info\"),\n",
    "    (\"human\", \"{input}\")\n",
    "])\n",
    "print(prompt)"
   ]
  },
  {
   "cell_type": "code",
   "execution_count": 12,
   "metadata": {},
   "outputs": [],
   "source": [
    "from langchain.output_parsers.openai_functions import JsonKeyOutputFunctionsParser\n",
    "from langchain.output_parsers.openai_functions import JsonOutputFunctionsParser\n",
    "extraction_chain = prompt | extraction_model | JsonKeyOutputFunctionsParser(key_name=\"people\")"
   ]
  },
  {
   "cell_type": "code",
   "execution_count": 14,
   "metadata": {},
   "outputs": [],
   "source": [
    "vaers=extraction_chain.batch(data[0:20])"
   ]
  },
  {
   "cell_type": "code",
   "execution_count": 15,
   "metadata": {},
   "outputs": [
    {
     "data": {
      "text/plain": [
       "[[{'VaccineName': 'Fluzone High-Dose Quadrivalent',\n",
       "   'HodpitalAdmission': False,\n",
       "   'Age': 14}],\n",
       " [{'VaccineName': 'NA', 'HodpitalAdmission': False, 'Age': 'NA'}],\n",
       " [{'VaccineName': 'RSVPreF3 adjuvanted (Arexvy)',\n",
       "   'HodpitalAdmission': False,\n",
       "   'Age': None}],\n",
       " [{'VaccineName': 'Herpes zoster (Shingrix)',\n",
       "   'HodpitalAdmission': False,\n",
       "   'Age': 54}],\n",
       " [{'VaccineName': 'RSVPreF3 adjuvanted (Arexvy)',\n",
       "   'HodpitalAdmission': False,\n",
       "   'Age': 25}],\n",
       " [{'VaccineName': 'RSVPreF3 adjuvanted (Arexvy)',\n",
       "   'HodpitalAdmission': False,\n",
       "   'Age': None}],\n",
       " [{'VaccineName': 'Infanrix', 'HodpitalAdmission': False, 'Age': 11}],\n",
       " [{'VaccineName': 'Flu Seasonal QIV Quebec (FluLaval Quadrivalent 2023-2024 season)',\n",
       "   'HodpitalAdmission': False,\n",
       "   'Age': 75}],\n",
       " [{'VaccineName': 'Boostrix', 'HodpitalAdmission': False, 'Age': None}],\n",
       " [{'VaccineName': 'Arexvy', 'HodpitalAdmission': False, 'Age': 70}],\n",
       " [{'VaccineName': 'Herpes zoster (Shingrix)',\n",
       "   'HodpitalAdmission': False,\n",
       "   'Age': None}],\n",
       " [{'VaccineName': 'Bexsero', 'HodpitalAdmission': False, 'Age': 16}],\n",
       " [{'VaccineName': 'Adacel', 'HodpitalAdmission': False, 'Age': 17}],\n",
       " [{'VaccineName': 'HIB (PRP/T) VACCINE [ACT-HIB]',\n",
       "   'HodpitalAdmission': False,\n",
       "   'Age': None}],\n",
       " [{'VaccineName': 'Fluzone QIV', 'HodpitalAdmission': False, 'Age': None}],\n",
       " [{'VaccineName': 'NA', 'HodpitalAdmission': True, 'Age': 61}],\n",
       " [{'VaccineName': 'NA', 'HodpitalAdmission': False, 'Age': 29}],\n",
       " [{'VaccineName': 'NA', 'HodpitalAdmission': True, 'Age': 58}],\n",
       " [{'VaccineName': 'NA', 'HodpitalAdmission': False, 'Age': 60}],\n",
       " [{'VaccineName': 'NA', 'HodpitalAdmission': False, 'Age': 67}]]"
      ]
     },
     "execution_count": 15,
     "metadata": {},
     "output_type": "execute_result"
    }
   ],
   "source": [
    "vaers"
   ]
  },
  {
   "cell_type": "code",
   "execution_count": 16,
   "metadata": {},
   "outputs": [],
   "source": [
    "import functools\n",
    "import operator\n",
    "#this is reportedly the most efficient way to get one list out of list of lists by concat\n",
    "vaers_list=functools.reduce(operator.iconcat, vaers, [])\n"
   ]
  },
  {
   "cell_type": "code",
   "execution_count": 18,
   "metadata": {},
   "outputs": [],
   "source": [
    "vaers_df = pd.DataFrame.from_dict(vaers_list) "
   ]
  }
 ],
 "metadata": {
  "kernelspec": {
   "display_name": "Python 3",
   "language": "python",
   "name": "python3"
  },
  "language_info": {
   "codemirror_mode": {
    "name": "ipython",
    "version": 3
   },
   "file_extension": ".py",
   "mimetype": "text/x-python",
   "name": "python",
   "nbconvert_exporter": "python",
   "pygments_lexer": "ipython3",
   "version": "3.12.2"
  }
 },
 "nbformat": 4,
 "nbformat_minor": 2
}
